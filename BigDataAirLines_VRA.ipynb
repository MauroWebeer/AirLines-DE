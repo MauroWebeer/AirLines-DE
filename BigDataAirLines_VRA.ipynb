{
 "cells": [
  {
   "cell_type": "code",
   "execution_count": null,
   "id": "1781c8da",
   "metadata": {},
   "outputs": [],
   "source": [
    "from glob import glob \n",
    "import pandas as pd\n",
    "import unidecode\n",
    "import requests\n",
    "import json\n",
    "import re\n",
    "import os"
   ]
  },
  {
   "cell_type": "code",
   "execution_count": null,
   "id": "f274ab64",
   "metadata": {},
   "outputs": [],
   "source": [
    "#Criação de uma função que converta uma string CamelCase em uma string snake_case \n",
    "def snake_case(string):\n",
    "    string = re.sub('(.)([A-Z][a-z]+)', r'\\1_\\2', string)\n",
    "    return unidecode.unidecode(re.sub('([a-z0-9])([A-Z])', r'\\1_\\2', string).lower())"
   ]
  },
  {
   "cell_type": "code",
   "execution_count": null,
   "id": "1f083297",
   "metadata": {
    "scrolled": true
   },
   "outputs": [],
   "source": [
    "#Primeiramente, iremos ler todos os arquivos desta página que sejam da extensão json para criar um dataframe com todos os dados\n",
    "file_list = glob(os.path.join('.\\VRA', \"*.json\"))\n",
    "dfs = []\n",
    "for file in file_list:\n",
    "    with open(file,encoding='utf-8-sig') as f:\n",
    "        json_data = pd.json_normalize(json.loads(f.read()))\n",
    "    dfs.append(json_data)\n",
    "df = pd.concat(dfs)\n",
    "df"
   ]
  },
  {
   "cell_type": "code",
   "execution_count": null,
   "id": "aa7fbc21",
   "metadata": {
    "scrolled": true
   },
   "outputs": [],
   "source": [
    "#Para alterar os nomes das colunas iremos criar um dicionário que guarda como chave o nome atual da colunas\n",
    "#e seu respectivo valor será o nome pelo qual deverá ser alterado.\n",
    "\n",
    "#Guardamos primeiro os nomes atuais das colunas\n",
    "lista_nomes = df.columns.values.tolist()\n",
    "\n",
    "#Com auxilio de uma lista nova, guardaremos os nomes convertidos em snake_case\n",
    "nova_lista = []\n",
    "for i in lista_nomes:\n",
    "    nova_lista.append(snake_case(i))\n",
    "res = dict(zip(lista_nomes, nova_lista))\n",
    "\n",
    "#A renomeação é feita, como dito acima, atrávez do dicionário criado com os nomes antigos e novos\n",
    "df.rename(columns=res,inplace=True)"
   ]
  },
  {
   "cell_type": "code",
   "execution_count": null,
   "id": "b2d9018a",
   "metadata": {},
   "outputs": [],
   "source": [
    "#Salvando o arquivo em CSV\n",
    "df.to_csv('airlines_VRA.csv', index=False, encoding='utf-8-sig')"
   ]
  },
  {
   "cell_type": "code",
   "execution_count": null,
   "id": "c8327784",
   "metadata": {},
   "outputs": [],
   "source": []
  }
 ],
 "metadata": {
  "kernelspec": {
   "display_name": "Python 3 (ipykernel)",
   "language": "python",
   "name": "python3"
  },
  "language_info": {
   "codemirror_mode": {
    "name": "ipython",
    "version": 3
   },
   "file_extension": ".py",
   "mimetype": "text/x-python",
   "name": "python",
   "nbconvert_exporter": "python",
   "pygments_lexer": "ipython3",
   "version": "3.9.12"
  }
 },
 "nbformat": 4,
 "nbformat_minor": 5
}
