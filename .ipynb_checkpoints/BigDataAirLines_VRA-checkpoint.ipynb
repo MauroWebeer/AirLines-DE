{
 "cells": [
  {
   "cell_type": "code",
   "execution_count": 55,
   "id": "984d60b1",
   "metadata": {},
   "outputs": [],
   "source": [
    "import pandas as pd\n",
    "import requests\n",
    "import json\n",
    "import re"
   ]
  },
  {
   "cell_type": "code",
   "execution_count": 64,
   "id": "dac008cd",
   "metadata": {},
   "outputs": [
    {
     "name": "stdout",
     "output_type": "stream",
     "text": [
      "i_c_a_o_empresa_aérea\n"
     ]
    }
   ],
   "source": [
    "def (string):\n",
    "    return re.sub(r'(?<!^)(?=[A-Z])', '_', string).lower()"
   ]
  },
  {
   "cell_type": "code",
   "execution_count": 67,
   "id": "1e01e5e8",
   "metadata": {
    "scrolled": true
   },
   "outputs": [
    {
     "data": {
      "text/html": [
       "<div>\n",
       "<style scoped>\n",
       "    .dataframe tbody tr th:only-of-type {\n",
       "        vertical-align: middle;\n",
       "    }\n",
       "\n",
       "    .dataframe tbody tr th {\n",
       "        vertical-align: top;\n",
       "    }\n",
       "\n",
       "    .dataframe thead th {\n",
       "        text-align: right;\n",
       "    }\n",
       "</style>\n",
       "<table border=\"1\" class=\"dataframe\">\n",
       "  <thead>\n",
       "    <tr style=\"text-align: right;\">\n",
       "      <th></th>\n",
       "      <th>ICAOEmpresaAérea</th>\n",
       "      <th>NúmeroVoo</th>\n",
       "      <th>CódigoAutorização</th>\n",
       "      <th>CódigoTipoLinha</th>\n",
       "      <th>ICAOAeródromoOrigem</th>\n",
       "      <th>ICAOAeródromoDestino</th>\n",
       "      <th>PartidaPrevista</th>\n",
       "      <th>PartidaReal</th>\n",
       "      <th>ChegadaPrevista</th>\n",
       "      <th>ChegadaReal</th>\n",
       "      <th>SituaçãoVoo</th>\n",
       "      <th>CódigoJustificativa</th>\n",
       "    </tr>\n",
       "  </thead>\n",
       "  <tbody>\n",
       "    <tr>\n",
       "      <th>0</th>\n",
       "      <td>MWM</td>\n",
       "      <td>9702</td>\n",
       "      <td>7</td>\n",
       "      <td>C</td>\n",
       "      <td>SBBE</td>\n",
       "      <td>SBEG</td>\n",
       "      <td>2021-01-19 12:35:00</td>\n",
       "      <td>2021-01-19 17:17:00</td>\n",
       "      <td>2021-01-19 14:45:00</td>\n",
       "      <td>2021-01-19 19:22:00</td>\n",
       "      <td>REALIZADO</td>\n",
       "      <td>N/A</td>\n",
       "    </tr>\n",
       "    <tr>\n",
       "      <th>1</th>\n",
       "      <td>MWM</td>\n",
       "      <td>9701</td>\n",
       "      <td>7</td>\n",
       "      <td>C</td>\n",
       "      <td>SBGL</td>\n",
       "      <td>SBPA</td>\n",
       "      <td>2021-01-26 10:00:00</td>\n",
       "      <td>2021-01-26 09:55:00</td>\n",
       "      <td>2021-01-26 12:05:00</td>\n",
       "      <td>2021-01-26 12:04:00</td>\n",
       "      <td>REALIZADO</td>\n",
       "      <td>N/A</td>\n",
       "    </tr>\n",
       "    <tr>\n",
       "      <th>2</th>\n",
       "      <td>MWM</td>\n",
       "      <td>9701</td>\n",
       "      <td>7</td>\n",
       "      <td>C</td>\n",
       "      <td>SBEG</td>\n",
       "      <td>SBBE</td>\n",
       "      <td>2021-01-18 21:15:00</td>\n",
       "      <td>2021-01-18 22:35:00</td>\n",
       "      <td>2021-01-18 23:20:00</td>\n",
       "      <td>2021-01-19 00:50:00</td>\n",
       "      <td>REALIZADO</td>\n",
       "      <td>N/A</td>\n",
       "    </tr>\n",
       "    <tr>\n",
       "      <th>3</th>\n",
       "      <td>MWM</td>\n",
       "      <td>9700</td>\n",
       "      <td>0</td>\n",
       "      <td>C</td>\n",
       "      <td>SBGL</td>\n",
       "      <td>SBEG</td>\n",
       "      <td>2021-01-14 20:30:00</td>\n",
       "      <td>2021-01-14 20:27:00</td>\n",
       "      <td>2021-01-15 00:45:00</td>\n",
       "      <td>2021-01-15 00:39:00</td>\n",
       "      <td>REALIZADO</td>\n",
       "      <td>N/A</td>\n",
       "    </tr>\n",
       "    <tr>\n",
       "      <th>4</th>\n",
       "      <td>MWM</td>\n",
       "      <td>9700</td>\n",
       "      <td>7</td>\n",
       "      <td>C</td>\n",
       "      <td>SBKP</td>\n",
       "      <td>SBEG</td>\n",
       "      <td>2021-01-24 11:30:00</td>\n",
       "      <td>2021-01-24 19:35:00</td>\n",
       "      <td>2021-01-24 15:10:00</td>\n",
       "      <td>2021-01-24 23:21:00</td>\n",
       "      <td>REALIZADO</td>\n",
       "      <td>N/A</td>\n",
       "    </tr>\n",
       "  </tbody>\n",
       "</table>\n",
       "</div>"
      ],
      "text/plain": [
       "  ICAOEmpresaAérea NúmeroVoo CódigoAutorização CódigoTipoLinha  \\\n",
       "0              MWM      9702                 7               C   \n",
       "1              MWM      9701                 7               C   \n",
       "2              MWM      9701                 7               C   \n",
       "3              MWM      9700                 0               C   \n",
       "4              MWM      9700                 7               C   \n",
       "\n",
       "  ICAOAeródromoOrigem ICAOAeródromoDestino      PartidaPrevista  \\\n",
       "0                SBBE                 SBEG  2021-01-19 12:35:00   \n",
       "1                SBGL                 SBPA  2021-01-26 10:00:00   \n",
       "2                SBEG                 SBBE  2021-01-18 21:15:00   \n",
       "3                SBGL                 SBEG  2021-01-14 20:30:00   \n",
       "4                SBKP                 SBEG  2021-01-24 11:30:00   \n",
       "\n",
       "           PartidaReal      ChegadaPrevista          ChegadaReal SituaçãoVoo  \\\n",
       "0  2021-01-19 17:17:00  2021-01-19 14:45:00  2021-01-19 19:22:00   REALIZADO   \n",
       "1  2021-01-26 09:55:00  2021-01-26 12:05:00  2021-01-26 12:04:00   REALIZADO   \n",
       "2  2021-01-18 22:35:00  2021-01-18 23:20:00  2021-01-19 00:50:00   REALIZADO   \n",
       "3  2021-01-14 20:27:00  2021-01-15 00:45:00  2021-01-15 00:39:00   REALIZADO   \n",
       "4  2021-01-24 19:35:00  2021-01-24 15:10:00  2021-01-24 23:21:00   REALIZADO   \n",
       "\n",
       "  CódigoJustificativa  \n",
       "0                 N/A  \n",
       "1                 N/A  \n",
       "2                 N/A  \n",
       "3                 N/A  \n",
       "4                 N/A  "
      ]
     },
     "execution_count": 67,
     "metadata": {},
     "output_type": "execute_result"
    }
   ],
   "source": [
    "airlines_json_file = r'.\\VRA\\VRA_20211.json'\n",
    "airlines_json = pd.read_json(airlines_json_file, encoding='utf-8-sig')\n",
    "airlines_json.head()"
   ]
  },
  {
   "cell_type": "code",
   "execution_count": 66,
   "id": "b3b43e08",
   "metadata": {
    "scrolled": true
   },
   "outputs": [
    {
     "data": {
      "text/plain": [
       "['ICAOEmpresaAérea',\n",
       " 'NúmeroVoo',\n",
       " 'CódigoAutorização',\n",
       " 'CódigoTipoLinha',\n",
       " 'ICAOAeródromoOrigem',\n",
       " 'ICAOAeródromoDestino',\n",
       " 'PartidaPrevista',\n",
       " 'PartidaReal',\n",
       " 'ChegadaPrevista',\n",
       " 'ChegadaReal',\n",
       " 'SituaçãoVoo',\n",
       " 'CódigoJustificativa']"
      ]
     },
     "execution_count": 66,
     "metadata": {},
     "output_type": "execute_result"
    }
   ],
   "source": [
    "lista_nomes = airlines_json.columns.values.tolist()\n",
    "lista_nomes"
   ]
  },
  {
   "cell_type": "code",
   "execution_count": null,
   "id": "e1ee7e53",
   "metadata": {},
   "outputs": [],
   "source": [
    "nova_lista = map(lista_nomes, ('apple', 'banana', 'cherry'))"
   ]
  }
 ],
 "metadata": {
  "kernelspec": {
   "display_name": "Python 3 (ipykernel)",
   "language": "python",
   "name": "python3"
  },
  "language_info": {
   "codemirror_mode": {
    "name": "ipython",
    "version": 3
   },
   "file_extension": ".py",
   "mimetype": "text/x-python",
   "name": "python",
   "nbconvert_exporter": "python",
   "pygments_lexer": "ipython3",
   "version": "3.9.12"
  }
 },
 "nbformat": 4,
 "nbformat_minor": 5
}
