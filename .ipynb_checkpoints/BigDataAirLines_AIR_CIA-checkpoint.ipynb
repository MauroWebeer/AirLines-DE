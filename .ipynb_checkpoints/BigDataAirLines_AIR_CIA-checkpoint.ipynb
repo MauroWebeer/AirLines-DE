{
 "cells": [
  {
   "cell_type": "code",
   "execution_count": 2,
   "id": "1781c8da",
   "metadata": {},
   "outputs": [],
   "source": [
    "from glob import glob \n",
    "import pandas as pd\n",
    "import unidecode\n",
    "import requests\n",
    "import json\n",
    "import re\n",
    "import os"
   ]
  },
  {
   "cell_type": "code",
   "execution_count": 3,
   "id": "f274ab64",
   "metadata": {},
   "outputs": [],
   "source": [
    "def snake_case(string):\n",
    "    string = re.sub('(.)([A-Z][a-z]+)', r'\\1_\\2', string)\n",
    "    return unidecode.unidecode(re.sub('([a-z0-9])([A-Z])', r'\\1_\\2', string).lower())"
   ]
  },
  {
   "cell_type": "code",
   "execution_count": 4,
   "id": "1f083297",
   "metadata": {
    "scrolled": true
   },
   "outputs": [],
   "source": [
    "file_list = glob(os.path.join('.\\VRA', \"*.json\"))\n",
    "dfs = []\n",
    "for file in file_list:\n",
    "    with open(file,encoding='utf-8-sig') as f:\n",
    "        json_data = pd.json_normalize(json.loads(f.read()))\n",
    "    dfs.append(json_data)\n",
    "df = pd.concat(dfs)"
   ]
  },
  {
   "cell_type": "code",
   "execution_count": 5,
   "id": "aa7fbc21",
   "metadata": {
    "scrolled": true
   },
   "outputs": [],
   "source": [
    "lista_nomes = df.columns.values.tolist()\n",
    "nova_lista = []\n",
    "for i in lista_nomes:\n",
    "    nova_lista.append(snake_case(i))\n",
    "res = dict(zip(lista_nomes, nova_lista))\n",
    "df.rename(columns=res,inplace=True)"
   ]
  },
  {
   "cell_type": "code",
   "execution_count": 6,
   "id": "b2d9018a",
   "metadata": {},
   "outputs": [],
   "source": [
    "df.to_csv('airlines_VRA.csv', index=False)"
   ]
  },
  {
   "cell_type": "code",
   "execution_count": null,
   "id": "c8327784",
   "metadata": {},
   "outputs": [],
   "source": []
  }
 ],
 "metadata": {
  "kernelspec": {
   "display_name": "Python 3 (ipykernel)",
   "language": "python",
   "name": "python3"
  },
  "language_info": {
   "codemirror_mode": {
    "name": "ipython",
    "version": 3
   },
   "file_extension": ".py",
   "mimetype": "text/x-python",
   "name": "python",
   "nbconvert_exporter": "python",
   "pygments_lexer": "ipython3",
   "version": "3.9.12"
  }
 },
 "nbformat": 4,
 "nbformat_minor": 5
}
